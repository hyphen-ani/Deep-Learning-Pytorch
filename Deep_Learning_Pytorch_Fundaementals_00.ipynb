{
  "nbformat": 4,
  "nbformat_minor": 0,
  "metadata": {
    "colab": {
      "provenance": [],
      "authorship_tag": "ABX9TyPwD1+IWtvg3/a7vS7kW3rj",
      "include_colab_link": true
    },
    "kernelspec": {
      "name": "python3",
      "display_name": "Python 3"
    },
    "language_info": {
      "name": "python"
    }
  },
  "cells": [
    {
      "cell_type": "markdown",
      "metadata": {
        "id": "view-in-github",
        "colab_type": "text"
      },
      "source": [
        "<a href=\"https://colab.research.google.com/github/hyphen-ani/Deep-Learning-Pytorch/blob/main/Deep_Learning_Pytorch_Fundaementals_00.ipynb\" target=\"_parent\"><img src=\"https://colab.research.google.com/assets/colab-badge.svg\" alt=\"Open In Colab\"/></a>"
      ]
    },
    {
      "cell_type": "markdown",
      "source": [
        "## Pytorch Fundaementals"
      ],
      "metadata": {
        "id": "lBjth2Uom-VV"
      }
    },
    {
      "cell_type": "code",
      "source": [
        "import torch\n",
        "import pandas as pd\n",
        "import numpy as np\n",
        "import pandas as pd\n",
        "import matplotlib.pyplot as plt\n",
        "print(torch.__version__)"
      ],
      "metadata": {
        "colab": {
          "base_uri": "https://localhost:8080/"
        },
        "id": "zGoTKkRgeFrH",
        "outputId": "50e6775b-ffed-4565-9b43-01f4c8768652"
      },
      "execution_count": 10,
      "outputs": [
        {
          "output_type": "stream",
          "name": "stdout",
          "text": [
            "2.3.0+cu121\n"
          ]
        }
      ]
    },
    {
      "cell_type": "code",
      "source": [
        "!nvidia-smi"
      ],
      "metadata": {
        "colab": {
          "base_uri": "https://localhost:8080/"
        },
        "id": "Q5BjvKyodnQC",
        "outputId": "366dbffb-4511-4ee6-8da4-b60d296943ec"
      },
      "execution_count": 11,
      "outputs": [
        {
          "output_type": "stream",
          "name": "stdout",
          "text": [
            "/bin/bash: line 1: nvidia-smi: command not found\n"
          ]
        }
      ]
    },
    {
      "cell_type": "markdown",
      "source": [
        "## Tensor's In Pytorch -- Introduction\n",
        "\n",
        "### Creating a tensor, scalar and vectors\n",
        "#### Created using `torch.tensor()`"
      ],
      "metadata": {
        "id": "PUpML7iDJw1c"
      }
    },
    {
      "cell_type": "code",
      "source": [
        "# Scalar\n",
        "\n",
        "scalar = torch.tensor(2)\n",
        "print()\n",
        "print(\"Dimention of Scalar : \", scalar.ndim)\n",
        "scalar.item()\n",
        "print('Scalar Shape : ', scalar.shape)"
      ],
      "metadata": {
        "colab": {
          "base_uri": "https://localhost:8080/"
        },
        "id": "m18IFLtGe8Ef",
        "outputId": "ce8d8c65-0f0c-4997-f079-4beaa5c39a8a"
      },
      "execution_count": 12,
      "outputs": [
        {
          "output_type": "stream",
          "name": "stdout",
          "text": [
            "\n",
            "Dimention of Scalar :  0\n",
            "Scalar Shape :  torch.Size([])\n"
          ]
        }
      ]
    },
    {
      "cell_type": "code",
      "source": [
        "# Vector\n",
        "\n",
        "vector = torch.tensor([7, 5])\n",
        "print(vector)\n",
        "print('Dimension Of Vector : ', vector.ndim)\n",
        "print('Vector Shape : ', vector.shape)"
      ],
      "metadata": {
        "colab": {
          "base_uri": "https://localhost:8080/"
        },
        "id": "kFdToGfje8ZX",
        "outputId": "f43fb50d-c23f-433f-bc77-ff163524e769"
      },
      "execution_count": 13,
      "outputs": [
        {
          "output_type": "stream",
          "name": "stdout",
          "text": [
            "tensor([7, 5])\n",
            "Dimension Of Vector :  1\n",
            "Vector Shape :  torch.Size([2])\n"
          ]
        }
      ]
    },
    {
      "cell_type": "code",
      "source": [
        "# MATRIX\n",
        "\n",
        "MATRIX = torch.tensor([[4, 5], [6, 7]])\n",
        "print(MATRIX)\n",
        "print('Dimension Of Matrix : ', MATRIX.shape)\n",
        "print('Matrix Shape : ', MATRIX.shape)\n",
        "MATRIX[1]"
      ],
      "metadata": {
        "colab": {
          "base_uri": "https://localhost:8080/"
        },
        "id": "sSHV6tWDe8j6",
        "outputId": "2356eea5-07c1-4858-fa31-882cc83dd0fb"
      },
      "execution_count": 14,
      "outputs": [
        {
          "output_type": "stream",
          "name": "stdout",
          "text": [
            "tensor([[4, 5],\n",
            "        [6, 7]])\n",
            "Dimension Of Matrix :  torch.Size([2, 2])\n",
            "Matrix Shape :  torch.Size([2, 2])\n"
          ]
        },
        {
          "output_type": "execute_result",
          "data": {
            "text/plain": [
              "tensor([6, 7])"
            ]
          },
          "metadata": {},
          "execution_count": 14
        }
      ]
    },
    {
      "cell_type": "code",
      "source": [
        "# TENSOR\n",
        "\n",
        "TENSOR = torch.tensor([[[1, 2, 3],\n",
        "                        [4, 5, 6],\n",
        "                        [7, 8, 9],\n",
        "                        [4, 5, 6],\n",
        "                        [4, 6, 7]],\n",
        "\n",
        "                        [[7, 2, 3],\n",
        "                        [4, 5, 6],\n",
        "                        [7, 8, 9],\n",
        "                        [4, 5, 6],\n",
        "                        [5, 6, 7]]])\n",
        "print(TENSOR)\n",
        "print('Dimension of Tensor : ', TENSOR.ndim)\n",
        "print('Tensor Shape : ', TENSOR.shape)\n",
        "TENSOR[1]\n"
      ],
      "metadata": {
        "colab": {
          "base_uri": "https://localhost:8080/"
        },
        "id": "ALENzfxue4IK",
        "outputId": "7997ab22-5e00-40fe-d06e-bbe51e46ab7c"
      },
      "execution_count": 15,
      "outputs": [
        {
          "output_type": "stream",
          "name": "stdout",
          "text": [
            "tensor([[[1, 2, 3],\n",
            "         [4, 5, 6],\n",
            "         [7, 8, 9],\n",
            "         [4, 5, 6],\n",
            "         [4, 6, 7]],\n",
            "\n",
            "        [[7, 2, 3],\n",
            "         [4, 5, 6],\n",
            "         [7, 8, 9],\n",
            "         [4, 5, 6],\n",
            "         [5, 6, 7]]])\n",
            "Dimension of Tensor :  3\n",
            "Tensor Shape :  torch.Size([2, 5, 3])\n"
          ]
        },
        {
          "output_type": "execute_result",
          "data": {
            "text/plain": [
              "tensor([[7, 2, 3],\n",
              "        [4, 5, 6],\n",
              "        [7, 8, 9],\n",
              "        [4, 5, 6],\n",
              "        [5, 6, 7]])"
            ]
          },
          "metadata": {},
          "execution_count": 15
        }
      ]
    },
    {
      "cell_type": "markdown",
      "source": [
        "## Random Tensors\n",
        "\n",
        "### Why Random Tensors?\n",
        "Random tensors are important because the way many neural networks learn is that they start with tensors full of random numbers and then adjust those random numbers to better represent the data\n",
        "\n",
        "`Start with RN -> Look at data -> Update RN -> look at data -> Update RN`"
      ],
      "metadata": {
        "id": "4FLckQX_e4b4"
      }
    },
    {
      "cell_type": "code",
      "source": [
        "# Create a RANDOM_TENSOR of size (3, 4)\n",
        "\n",
        "RANDOM_TENSOR = torch.rand(3, 5)\n",
        "RANDOM_TENSOR"
      ],
      "metadata": {
        "colab": {
          "base_uri": "https://localhost:8080/"
        },
        "id": "h-bS1rc4kE_K",
        "outputId": "4b248ed0-995e-4f2b-ec95-2cb6125ea220"
      },
      "execution_count": 16,
      "outputs": [
        {
          "output_type": "execute_result",
          "data": {
            "text/plain": [
              "tensor([[0.7556, 0.2023, 0.7828, 0.7795, 0.1961],\n",
              "        [0.0126, 0.7827, 0.3007, 0.5116, 0.7145],\n",
              "        [0.2307, 0.4808, 0.6682, 0.9458, 0.3113]])"
            ]
          },
          "metadata": {},
          "execution_count": 16
        }
      ]
    },
    {
      "cell_type": "code",
      "source": [
        "# Create a RANDOM_TENSOR with similar shape to an image tensor\n",
        "\n",
        "RANDOM_IMG_SIZE_TENSOR = torch.rand(size=(224, 224, 3)) #  Represents --> (Height, Width, Color Channels (RGB))\n",
        "RANDOM_IMG_SIZE_TENSOR.ndim"
      ],
      "metadata": {
        "colab": {
          "base_uri": "https://localhost:8080/"
        },
        "id": "nXFndLsQks1a",
        "outputId": "1140bc73-50b7-4b05-c011-62cb0939f079"
      },
      "execution_count": 17,
      "outputs": [
        {
          "output_type": "execute_result",
          "data": {
            "text/plain": [
              "3"
            ]
          },
          "metadata": {},
          "execution_count": 17
        }
      ]
    },
    {
      "cell_type": "markdown",
      "source": [
        "### Zeroes & Ones"
      ],
      "metadata": {
        "id": "9XiyInmBlS4_"
      }
    },
    {
      "cell_type": "code",
      "source": [
        "# Create a tensor of all zerores\n",
        "\n",
        "zeros = torch.zeros(size=(3, 5))\n",
        "zeros"
      ],
      "metadata": {
        "colab": {
          "base_uri": "https://localhost:8080/"
        },
        "id": "COLF9vJnmIXX",
        "outputId": "1260c3d8-29e2-4520-efd8-482c3312b042"
      },
      "execution_count": 18,
      "outputs": [
        {
          "output_type": "execute_result",
          "data": {
            "text/plain": [
              "tensor([[0., 0., 0., 0., 0.],\n",
              "        [0., 0., 0., 0., 0.],\n",
              "        [0., 0., 0., 0., 0.]])"
            ]
          },
          "metadata": {},
          "execution_count": 18
        }
      ]
    },
    {
      "cell_type": "code",
      "source": [
        "# Create a tensor of all ones\n",
        "\n",
        "ones = torch.ones(size=(3, 5))\n",
        "ones"
      ],
      "metadata": {
        "colab": {
          "base_uri": "https://localhost:8080/"
        },
        "id": "WZtY1pyHmRdm",
        "outputId": "a191df4c-57cc-4c71-8630-1b7c4fbae80b"
      },
      "execution_count": 19,
      "outputs": [
        {
          "output_type": "execute_result",
          "data": {
            "text/plain": [
              "tensor([[1., 1., 1., 1., 1.],\n",
              "        [1., 1., 1., 1., 1.],\n",
              "        [1., 1., 1., 1., 1.]])"
            ]
          },
          "metadata": {},
          "execution_count": 19
        }
      ]
    },
    {
      "cell_type": "markdown",
      "source": [
        "### Creating Range of Tensors\n",
        "\n",
        "**Note:** Tensor datatypes is one of the 3 big errors you'll run into with PyTorch & Deep Learning\n",
        "\n",
        "1. Tensors not right datatype\n",
        "2. Tensors not right shape\n",
        "3. Tensors not on the right device"
      ],
      "metadata": {
        "id": "Fu5OAab8mtKF"
      }
    },
    {
      "cell_type": "code",
      "source": [
        "# torch.range()\n",
        "\n",
        "one_to_fifty = torch.arange(start=0, end=51, step=2)\n",
        "one_to_fifty"
      ],
      "metadata": {
        "colab": {
          "base_uri": "https://localhost:8080/"
        },
        "id": "bpHYkEO5m1yR",
        "outputId": "0ba19af9-b10e-4634-e184-fdda30d54428"
      },
      "execution_count": 20,
      "outputs": [
        {
          "output_type": "execute_result",
          "data": {
            "text/plain": [
              "tensor([ 0,  2,  4,  6,  8, 10, 12, 14, 16, 18, 20, 22, 24, 26, 28, 30, 32, 34,\n",
              "        36, 38, 40, 42, 44, 46, 48, 50])"
            ]
          },
          "metadata": {},
          "execution_count": 20
        }
      ]
    },
    {
      "cell_type": "code",
      "source": [
        "# Creating Tensors Like\n",
        "\n",
        "fifty_zeroes = torch.zeros_like(one_to_fifty)\n",
        "fifty_zeroes"
      ],
      "metadata": {
        "colab": {
          "base_uri": "https://localhost:8080/"
        },
        "id": "RKvEljdsm4pr",
        "outputId": "52c068e6-196e-4433-9615-3aa8317c4dcd"
      },
      "execution_count": 21,
      "outputs": [
        {
          "output_type": "execute_result",
          "data": {
            "text/plain": [
              "tensor([0, 0, 0, 0, 0, 0, 0, 0, 0, 0, 0, 0, 0, 0, 0, 0, 0, 0, 0, 0, 0, 0, 0, 0,\n",
              "        0, 0])"
            ]
          },
          "metadata": {},
          "execution_count": 21
        }
      ]
    },
    {
      "cell_type": "markdown",
      "source": [
        "### Tensor Datatypes"
      ],
      "metadata": {
        "id": "6qLzvxNynj-m"
      }
    },
    {
      "cell_type": "code",
      "source": [
        "# Float 32 Tensor\n",
        "\n",
        "float_32_tensor = torch.tensor([3.0, 6.0, 7.0],\n",
        "                               dtype=None,  # What datatype is the tensor (float32, float64)\n",
        "                               device=None, # CPU(cpu) or GPU(cuda), Default: CPU\n",
        "                               requires_grad=False) # Track Gradients With Tensor Operations\n",
        "float_32_tensor"
      ],
      "metadata": {
        "colab": {
          "base_uri": "https://localhost:8080/"
        },
        "id": "qE9tA5Y9oDT5",
        "outputId": "424618ad-fd34-4d16-c859-b08687dc33d8"
      },
      "execution_count": 22,
      "outputs": [
        {
          "output_type": "execute_result",
          "data": {
            "text/plain": [
              "tensor([3., 6., 7.])"
            ]
          },
          "metadata": {},
          "execution_count": 22
        }
      ]
    },
    {
      "cell_type": "code",
      "source": [
        "float_16_tensor = torch.tensor([4.5, 4.4, 2.4],\n",
        "                               dtype=torch.float16)\n",
        "float_16_tensor"
      ],
      "metadata": {
        "colab": {
          "base_uri": "https://localhost:8080/"
        },
        "id": "VwrHyxHOptxy",
        "outputId": "f828dbf9-8c0d-4e94-91f9-5abdbd42797a"
      },
      "execution_count": 23,
      "outputs": [
        {
          "output_type": "execute_result",
          "data": {
            "text/plain": [
              "tensor([4.5000, 4.3984, 2.4004], dtype=torch.float16)"
            ]
          },
          "metadata": {},
          "execution_count": 23
        }
      ]
    },
    {
      "cell_type": "code",
      "source": [
        "# Change datatype Explicitly\n",
        "\n",
        "float_changed = float_32_tensor.type(torch.float16)\n",
        "float_changed"
      ],
      "metadata": {
        "colab": {
          "base_uri": "https://localhost:8080/"
        },
        "id": "f9fZvpRWoWYf",
        "outputId": "bd8ad08c-cbe0-4c3a-83ac-477b5c6d57f7"
      },
      "execution_count": 24,
      "outputs": [
        {
          "output_type": "execute_result",
          "data": {
            "text/plain": [
              "tensor([3., 6., 7.], dtype=torch.float16)"
            ]
          },
          "metadata": {},
          "execution_count": 24
        }
      ]
    },
    {
      "cell_type": "code",
      "source": [
        "# Multiply Tensors\n",
        "\n",
        "float_32_tensor * float_16_tensor"
      ],
      "metadata": {
        "colab": {
          "base_uri": "https://localhost:8080/"
        },
        "id": "hUnQe4Y4uxR3",
        "outputId": "5278f193-55be-4ad8-a0ac-30c84b6e73c7"
      },
      "execution_count": 25,
      "outputs": [
        {
          "output_type": "execute_result",
          "data": {
            "text/plain": [
              "tensor([13.5000, 26.3906, 16.8027])"
            ]
          },
          "metadata": {},
          "execution_count": 25
        }
      ]
    },
    {
      "cell_type": "markdown",
      "source": [
        "### Getting Information from tensors\n",
        "\n",
        "\n",
        "1. Tensors datatype `tensor.dtype`\n",
        "2. Tensors shape `tensor.shape`\n",
        "3. Tensors device `tensor.device`\n"
      ],
      "metadata": {
        "id": "oTR2wgR5vdch"
      }
    },
    {
      "cell_type": "code",
      "source": [
        "INFO_TENSOR = torch.rand((3, 5),dtype=torch.float,device=None,requires_grad=False)"
      ],
      "metadata": {
        "id": "rc8W3pHOv_ZW"
      },
      "execution_count": 26,
      "outputs": []
    },
    {
      "cell_type": "code",
      "source": [
        "# Details of above Tensors\n",
        "\n",
        "print(f\"Datatype :  {INFO_TENSOR.dtype}\")\n",
        "print('Shape : ' , INFO_TENSOR.shape)\n",
        "print('Device :  ', INFO_TENSOR.device)"
      ],
      "metadata": {
        "colab": {
          "base_uri": "https://localhost:8080/"
        },
        "id": "OvAkgXKewPDu",
        "outputId": "31a6cb7f-b81a-46e5-ab3a-c5738eca2cfa"
      },
      "execution_count": 27,
      "outputs": [
        {
          "output_type": "stream",
          "name": "stdout",
          "text": [
            "Datatype :  torch.float32\n",
            "Shape :  torch.Size([3, 5])\n",
            "Device :   cpu\n"
          ]
        }
      ]
    },
    {
      "cell_type": "markdown",
      "source": [
        "### Mamipulating Tensors (Tensors Operation)\n",
        "\n",
        "## Tensors operations include\n",
        "* Addition\n",
        "* Substraction\n",
        "* Multiplication (Element Wise)\n",
        "* Division\n",
        "* Matrix Multiplication"
      ],
      "metadata": {
        "id": "8wtrSlOWwoZN"
      }
    },
    {
      "cell_type": "code",
      "source": [
        "# Addition\n",
        "\n",
        "x_tensor = torch.tensor([1, 2, 3])\n",
        "x_tensor + 10"
      ],
      "metadata": {
        "colab": {
          "base_uri": "https://localhost:8080/"
        },
        "id": "Jqg3eA8ZW_LK",
        "outputId": "572d8b5b-6f67-47d4-a3bf-a83ed98b945b"
      },
      "execution_count": 28,
      "outputs": [
        {
          "output_type": "execute_result",
          "data": {
            "text/plain": [
              "tensor([11, 12, 13])"
            ]
          },
          "metadata": {},
          "execution_count": 28
        }
      ]
    },
    {
      "cell_type": "code",
      "source": [
        "# Multiply\n",
        "\n",
        "x_tensor * 10\n",
        "\n",
        "# Substraction\n",
        "\n",
        "x_tensor - 10"
      ],
      "metadata": {
        "colab": {
          "base_uri": "https://localhost:8080/"
        },
        "id": "LiPXHdyyXc9W",
        "outputId": "86d0c5a6-5226-4073-a89a-a02388c36674"
      },
      "execution_count": 29,
      "outputs": [
        {
          "output_type": "execute_result",
          "data": {
            "text/plain": [
              "tensor([-9, -8, -7])"
            ]
          },
          "metadata": {},
          "execution_count": 29
        }
      ]
    },
    {
      "cell_type": "code",
      "source": [
        "# Pytorch - Inbuilt Function\n",
        "\n",
        "torch.mul(x_tensor, 40)\n",
        "torch.add(x_tensor, 10)\n",
        "torch.sub(x_tensor, 10)"
      ],
      "metadata": {
        "colab": {
          "base_uri": "https://localhost:8080/"
        },
        "id": "Iq9T3HaoXv1h",
        "outputId": "8f27c78e-f2da-4d7f-c354-6732d76db6a5"
      },
      "execution_count": 30,
      "outputs": [
        {
          "output_type": "execute_result",
          "data": {
            "text/plain": [
              "tensor([-9, -8, -7])"
            ]
          },
          "metadata": {},
          "execution_count": 30
        }
      ]
    },
    {
      "cell_type": "markdown",
      "source": [
        "### Matrix Multiplication\n",
        "\n",
        "Two main ways of performing multiplication in neural networks and deep learning\n",
        "\n",
        "1. Element-Wise Multiplication\n",
        "2. Matrix Multiplication\n",
        "\n",
        "Two rules that need to be satisfied\n",
        "\n",
        "1. The **inner dimention** must match:\n",
        "* `(3, 2) @ (3, 2)` -> wont work\n",
        "* `(3, 2) @ (2, 3)` -> will work\n",
        "\n",
        "2. The resulting matrix has the shape of the **outer dimention**\n",
        "\n",
        "* `(3, 2) @ (2, 3)` -> (3, 3)\n",
        "* `(2, 3) @ (3, 2)` -> (2, 2)"
      ],
      "metadata": {
        "id": "JpmB0zeXYC9y"
      }
    },
    {
      "cell_type": "code",
      "source": [
        "# Element Wise Multiplication\n",
        "\n",
        "print(x_tensor * x_tensor)"
      ],
      "metadata": {
        "colab": {
          "base_uri": "https://localhost:8080/"
        },
        "id": "xuwK_BaeZHqA",
        "outputId": "7d986af7-2a30-45fb-9831-3b4f8a6d9af3"
      },
      "execution_count": 31,
      "outputs": [
        {
          "output_type": "stream",
          "name": "stdout",
          "text": [
            "tensor([1, 4, 9])\n"
          ]
        }
      ]
    },
    {
      "cell_type": "code",
      "source": [
        "# Matrix Multiplication\n",
        "\n",
        "%%time\n",
        "torch.matmul(x_tensor, x_tensor)"
      ],
      "metadata": {
        "colab": {
          "base_uri": "https://localhost:8080/"
        },
        "id": "RrTX6RKwZQwI",
        "outputId": "595abb59-32fe-4e7c-c065-e9b7e2f48d61"
      },
      "execution_count": 32,
      "outputs": [
        {
          "output_type": "stream",
          "name": "stdout",
          "text": [
            "CPU times: user 611 µs, sys: 1.11 ms, total: 1.72 ms\n",
            "Wall time: 10.7 ms\n"
          ]
        },
        {
          "output_type": "execute_result",
          "data": {
            "text/plain": [
              "tensor(14)"
            ]
          },
          "metadata": {},
          "execution_count": 32
        }
      ]
    },
    {
      "cell_type": "code",
      "source": [
        "%%time\n",
        "\n",
        "value = 0\n",
        "\n",
        "for i in range(len(x_tensor)):\n",
        "  value += x_tensor[i] * x_tensor[i]\n",
        "\n",
        "print(value)"
      ],
      "metadata": {
        "colab": {
          "base_uri": "https://localhost:8080/"
        },
        "id": "lgTOFnlEZe2_",
        "outputId": "fdbcb25b-bea0-459f-a21e-9dd0fd46b3de"
      },
      "execution_count": 33,
      "outputs": [
        {
          "output_type": "stream",
          "name": "stdout",
          "text": [
            "tensor(14)\n",
            "CPU times: user 3.89 ms, sys: 0 ns, total: 3.89 ms\n",
            "Wall time: 4.2 ms\n"
          ]
        }
      ]
    },
    {
      "cell_type": "markdown",
      "source": [
        "### Common Errors Is Shape Errors"
      ],
      "metadata": {
        "id": "9TSzMFyZZ8BO"
      }
    },
    {
      "cell_type": "code",
      "source": [
        "# Shapes for matrix multiplication\n",
        "\n",
        "tensor_A = torch.tensor([[1, 2],\n",
        "                        [3, 4],\n",
        "                        [5, 6]])\n",
        "\n",
        "# tensor_B = torch.tensor([[7, 8, 9], -> this works as well\n",
        "#                         [10, 11, 12]])\n",
        "\n",
        "tensor_B = torch.tensor([[7, 10],\n",
        "                          [8, 11],\n",
        "                         [9, 12]])\n",
        "\n",
        "torch.mm(tensor_A, tensor_B.T)"
      ],
      "metadata": {
        "colab": {
          "base_uri": "https://localhost:8080/"
        },
        "id": "eAvoOy3Mb460",
        "outputId": "269427de-5293-4aeb-ee77-0414c7dbabc7"
      },
      "execution_count": 34,
      "outputs": [
        {
          "output_type": "execute_result",
          "data": {
            "text/plain": [
              "tensor([[ 27,  30,  33],\n",
              "        [ 61,  68,  75],\n",
              "        [ 95, 106, 117]])"
            ]
          },
          "metadata": {},
          "execution_count": 34
        }
      ]
    },
    {
      "cell_type": "code",
      "source": [
        "### To fix our tensor issues we can manipulate the tensor using transpose\n",
        "\n",
        "tensor_B.T"
      ],
      "metadata": {
        "colab": {
          "base_uri": "https://localhost:8080/"
        },
        "id": "vJexy-W0coMV",
        "outputId": "a1f2917c-7373-422a-f00b-12d3d6e4ac11"
      },
      "execution_count": 35,
      "outputs": [
        {
          "output_type": "execute_result",
          "data": {
            "text/plain": [
              "tensor([[ 7,  8,  9],\n",
              "        [10, 11, 12]])"
            ]
          },
          "metadata": {},
          "execution_count": 35
        }
      ]
    },
    {
      "cell_type": "code",
      "source": [
        "torch.mm(tensor_A, tensor_B.T)"
      ],
      "metadata": {
        "colab": {
          "base_uri": "https://localhost:8080/"
        },
        "id": "jqDRI99ddRWA",
        "outputId": "bcad3f4d-ed2a-4572-9f16-a3fa5668b021"
      },
      "execution_count": 36,
      "outputs": [
        {
          "output_type": "execute_result",
          "data": {
            "text/plain": [
              "tensor([[ 27,  30,  33],\n",
              "        [ 61,  68,  75],\n",
              "        [ 95, 106, 117]])"
            ]
          },
          "metadata": {},
          "execution_count": 36
        }
      ]
    },
    {
      "cell_type": "markdown",
      "source": [
        "### Tensor Aggregation - Min, Max, Mean, Sum etc."
      ],
      "metadata": {
        "id": "7qJFazDHjw8F"
      }
    },
    {
      "cell_type": "code",
      "source": [
        "x = torch.arange(0, 100, 10, dtype=torch.float64)\n",
        "\n",
        "# Find max\n",
        "torch.max(x)\n",
        "\n",
        "# Find min\n",
        "torch.min(x)"
      ],
      "metadata": {
        "colab": {
          "base_uri": "https://localhost:8080/"
        },
        "id": "fbJ8YrKWdx9z",
        "outputId": "3cb90588-170f-4e17-dc1d-a7730f922942"
      },
      "execution_count": 37,
      "outputs": [
        {
          "output_type": "execute_result",
          "data": {
            "text/plain": [
              "tensor(0., dtype=torch.float64)"
            ]
          },
          "metadata": {},
          "execution_count": 37
        }
      ]
    },
    {
      "cell_type": "code",
      "source": [
        "# Find the mean - note: the torch.mean() function requires a tensor of float32 datatype to work\n",
        "\n",
        "torch.mean(x)"
      ],
      "metadata": {
        "colab": {
          "base_uri": "https://localhost:8080/"
        },
        "id": "wzyNSWW-iFib",
        "outputId": "03a2e2ae-f6b8-42fd-ff49-120bf8d42a76"
      },
      "execution_count": 38,
      "outputs": [
        {
          "output_type": "execute_result",
          "data": {
            "text/plain": [
              "tensor(45., dtype=torch.float64)"
            ]
          },
          "metadata": {},
          "execution_count": 38
        }
      ]
    },
    {
      "cell_type": "code",
      "source": [
        "torch.sum(x)"
      ],
      "metadata": {
        "colab": {
          "base_uri": "https://localhost:8080/"
        },
        "id": "i8jO4AmdicV4",
        "outputId": "265c1898-4215-499d-c773-1131fddf3148"
      },
      "execution_count": 39,
      "outputs": [
        {
          "output_type": "execute_result",
          "data": {
            "text/plain": [
              "tensor(450., dtype=torch.float64)"
            ]
          },
          "metadata": {},
          "execution_count": 39
        }
      ]
    },
    {
      "cell_type": "code",
      "source": [
        "### Finding the postion of min and max : Return the position of tensor with min or max value\n",
        "\n",
        "\n",
        "x.argmin(), x.argmax()"
      ],
      "metadata": {
        "colab": {
          "base_uri": "https://localhost:8080/"
        },
        "id": "1P1tBPI_i1He",
        "outputId": "58aea401-f19d-4ea1-b50f-3c5d1b1b0a2d"
      },
      "execution_count": 40,
      "outputs": [
        {
          "output_type": "execute_result",
          "data": {
            "text/plain": [
              "(tensor(0), tensor(9))"
            ]
          },
          "metadata": {},
          "execution_count": 40
        }
      ]
    },
    {
      "cell_type": "markdown",
      "source": [
        "### Reshaping, Stacking, Squeezing & Unsqueezing Tensors\n",
        "\n",
        "* Reshaping - Reshapes an input tensor to a defined shape\n",
        "* View - Return a view of an input tensor of certain shape but keep the same memory as the orginal tensor\n",
        "* Stacking - Combine multiple tensors on top of each other (vstack) or (hstack)\n",
        "* Squeez - removes all `1` dimentions from a tensor\n",
        "* Unsqueez - adds a `1` dimention to a tensor\n",
        "* Permute - Return a view of the input with dimentions permuted (swaped) in a certain way"
      ],
      "metadata": {
        "id": "10CDdUM7jWcY"
      }
    },
    {
      "cell_type": "code",
      "source": [
        "x = torch.arange(1., 11.)\n",
        "x, x.shape"
      ],
      "metadata": {
        "colab": {
          "base_uri": "https://localhost:8080/"
        },
        "id": "z5TwJFDMkzJF",
        "outputId": "4c90f17f-152c-4f14-d5b3-4e2c072ae573"
      },
      "execution_count": 41,
      "outputs": [
        {
          "output_type": "execute_result",
          "data": {
            "text/plain": [
              "(tensor([ 1.,  2.,  3.,  4.,  5.,  6.,  7.,  8.,  9., 10.]), torch.Size([10]))"
            ]
          },
          "metadata": {},
          "execution_count": 41
        }
      ]
    },
    {
      "cell_type": "code",
      "source": [
        "# Reshape\n",
        "\n",
        "x_reshape = x.reshape(1, 10)\n",
        "x_reshape, x_reshape.shape"
      ],
      "metadata": {
        "colab": {
          "base_uri": "https://localhost:8080/"
        },
        "id": "zkpATwI6k9P7",
        "outputId": "4254a9bb-4e4f-45f6-cd9c-75e86dd11b9b"
      },
      "execution_count": 42,
      "outputs": [
        {
          "output_type": "execute_result",
          "data": {
            "text/plain": [
              "(tensor([[ 1.,  2.,  3.,  4.,  5.,  6.,  7.,  8.,  9., 10.]]),\n",
              " torch.Size([1, 10]))"
            ]
          },
          "metadata": {},
          "execution_count": 42
        }
      ]
    },
    {
      "cell_type": "code",
      "source": [
        "# Change View\n",
        "\n",
        "z = x.view(1, 10)\n",
        "z, z.shape"
      ],
      "metadata": {
        "colab": {
          "base_uri": "https://localhost:8080/"
        },
        "id": "yBiWTCxrlJeq",
        "outputId": "88badc1a-fe3a-4d6a-888c-dca98c622c62"
      },
      "execution_count": 43,
      "outputs": [
        {
          "output_type": "execute_result",
          "data": {
            "text/plain": [
              "(tensor([[ 1.,  2.,  3.,  4.,  5.,  6.,  7.,  8.,  9., 10.]]),\n",
              " torch.Size([1, 10]))"
            ]
          },
          "metadata": {},
          "execution_count": 43
        }
      ]
    },
    {
      "cell_type": "code",
      "source": [
        "# Stack Tensors\n",
        "\n",
        "x_stack = torch.stack([x, x, x, x], dim=0)\n",
        "x_stack"
      ],
      "metadata": {
        "colab": {
          "base_uri": "https://localhost:8080/"
        },
        "id": "eYPQb_s1lqRI",
        "outputId": "398e1a35-2227-4e92-c173-74db47292564"
      },
      "execution_count": 44,
      "outputs": [
        {
          "output_type": "execute_result",
          "data": {
            "text/plain": [
              "tensor([[ 1.,  2.,  3.,  4.,  5.,  6.,  7.,  8.,  9., 10.],\n",
              "        [ 1.,  2.,  3.,  4.,  5.,  6.,  7.,  8.,  9., 10.],\n",
              "        [ 1.,  2.,  3.,  4.,  5.,  6.,  7.,  8.,  9., 10.],\n",
              "        [ 1.,  2.,  3.,  4.,  5.,  6.,  7.,  8.,  9., 10.]])"
            ]
          },
          "metadata": {},
          "execution_count": 44
        }
      ]
    },
    {
      "cell_type": "code",
      "source": [
        "# Squeeze\n",
        "\n",
        "x_squezed = x_reshape.squeeze()"
      ],
      "metadata": {
        "id": "3tPUtiPOmN5G"
      },
      "execution_count": 45,
      "outputs": []
    },
    {
      "cell_type": "code",
      "source": [
        "# UnSqueeze\n",
        "\n",
        "x_squezed.unsqueeze(dim=0).shape"
      ],
      "metadata": {
        "colab": {
          "base_uri": "https://localhost:8080/"
        },
        "id": "WOd2DrUam5jh",
        "outputId": "fc7b5b6d-b6ba-4eee-db1b-bdcdce13448b"
      },
      "execution_count": 46,
      "outputs": [
        {
          "output_type": "execute_result",
          "data": {
            "text/plain": [
              "torch.Size([1, 10])"
            ]
          },
          "metadata": {},
          "execution_count": 46
        }
      ]
    },
    {
      "cell_type": "code",
      "source": [
        "# Permute  Rearranges Dimentions -> Used mostly in Images\n",
        "\n",
        "x_original = torch.rand(size=(224, 225, 3))\n",
        "\n",
        "# Permuting\n",
        "\n",
        "x_permuted = x_original.permute(2, 0, 1)\n",
        "\n",
        "print(f\"Previous shape : {x_original.shape}\")\n",
        "print(f\"New shape : {x_permuted.shape}\")"
      ],
      "metadata": {
        "colab": {
          "base_uri": "https://localhost:8080/"
        },
        "id": "ya3ZCuz0nj-o",
        "outputId": "8145d384-315a-4b5f-e39e-368a8396d73a"
      },
      "execution_count": 47,
      "outputs": [
        {
          "output_type": "stream",
          "name": "stdout",
          "text": [
            "Previous shape : torch.Size([224, 225, 3])\n",
            "New shape : torch.Size([3, 224, 225])\n"
          ]
        }
      ]
    },
    {
      "cell_type": "code",
      "source": [
        "x_original[0, 0 ,0] = 88475"
      ],
      "metadata": {
        "id": "aXRIbHNgozHx"
      },
      "execution_count": 48,
      "outputs": []
    },
    {
      "cell_type": "code",
      "source": [
        "x_permuted[0, 0, 0]"
      ],
      "metadata": {
        "colab": {
          "base_uri": "https://localhost:8080/"
        },
        "id": "zvKdv8nMpCnm",
        "outputId": "43124224-db7a-4a69-c237-097787b31e38"
      },
      "execution_count": 49,
      "outputs": [
        {
          "output_type": "execute_result",
          "data": {
            "text/plain": [
              "tensor(88475.)"
            ]
          },
          "metadata": {},
          "execution_count": 49
        }
      ]
    },
    {
      "cell_type": "markdown",
      "source": [
        "### Indexing\n",
        "\n",
        "Indexing with pytorch is similar to numpy"
      ],
      "metadata": {
        "id": "J09zv2BZpFtP"
      }
    },
    {
      "cell_type": "code",
      "source": [
        "x = torch.arange(1, 10).reshape(1, 3, 3)\n",
        "x, x.shape"
      ],
      "metadata": {
        "colab": {
          "base_uri": "https://localhost:8080/"
        },
        "id": "521p-f_YpO5M",
        "outputId": "75630ea8-c291-49f1-9888-025c57c79211"
      },
      "execution_count": 50,
      "outputs": [
        {
          "output_type": "execute_result",
          "data": {
            "text/plain": [
              "(tensor([[[1, 2, 3],\n",
              "          [4, 5, 6],\n",
              "          [7, 8, 9]]]),\n",
              " torch.Size([1, 3, 3]))"
            ]
          },
          "metadata": {},
          "execution_count": 50
        }
      ]
    },
    {
      "cell_type": "code",
      "source": [
        "# Indexing\n",
        "\n",
        "x[0] # First Bracket\n",
        "x[0, 0] # Second Bracket\n",
        "x[0, 2, 2] # Third Bracket"
      ],
      "metadata": {
        "colab": {
          "base_uri": "https://localhost:8080/"
        },
        "id": "SdbF4PMIpPCx",
        "outputId": "896583f8-e900-414f-b5ee-320a4033b4e1"
      },
      "execution_count": 51,
      "outputs": [
        {
          "output_type": "execute_result",
          "data": {
            "text/plain": [
              "tensor(9)"
            ]
          },
          "metadata": {},
          "execution_count": 51
        }
      ]
    },
    {
      "cell_type": "code",
      "source": [
        "# You can use \":\" to select all of the target dimention\n",
        "\n",
        "x[:, :, 0]\n",
        "x[:, 1, 1]\n",
        "x[0, 0, :]\n",
        "x[:, 2, 2]\n",
        "x[:, :, 2]"
      ],
      "metadata": {
        "colab": {
          "base_uri": "https://localhost:8080/"
        },
        "id": "yOwBt617pdrG",
        "outputId": "b3304242-1144-46f9-88d7-e4e0903a8f53"
      },
      "execution_count": 52,
      "outputs": [
        {
          "output_type": "execute_result",
          "data": {
            "text/plain": [
              "tensor([[3, 6, 9]])"
            ]
          },
          "metadata": {},
          "execution_count": 52
        }
      ]
    },
    {
      "cell_type": "markdown",
      "source": [
        "### Pytorch Tensors & Numpy\n",
        "\n",
        "* Data in Numpy, want in Pytorch tensor -> `torch.from_numpy(ndarray)`"
      ],
      "metadata": {
        "id": "0DjNYHwGqKrc"
      }
    },
    {
      "cell_type": "code",
      "source": [
        "# Numpy - Tensor\n",
        "\n",
        "array = np.arange(1., 8.)\n",
        "tensor = torch.from_numpy(array).type(torch.float32)\n",
        "array, tensor"
      ],
      "metadata": {
        "colab": {
          "base_uri": "https://localhost:8080/"
        },
        "id": "Du9zEU3OrXng",
        "outputId": "fb56d70a-19fe-48bf-c191-82a6a3ced97a"
      },
      "execution_count": 53,
      "outputs": [
        {
          "output_type": "execute_result",
          "data": {
            "text/plain": [
              "(array([1., 2., 3., 4., 5., 6., 7.]), tensor([1., 2., 3., 4., 5., 6., 7.]))"
            ]
          },
          "metadata": {},
          "execution_count": 53
        }
      ]
    },
    {
      "cell_type": "code",
      "source": [
        "# Change the value of array\n",
        "\n",
        "array = array + 1\n",
        "array, tensor"
      ],
      "metadata": {
        "colab": {
          "base_uri": "https://localhost:8080/"
        },
        "id": "0KXHEiDRrg4S",
        "outputId": "284d1c8d-234b-4997-b19b-b9f06043b4f9"
      },
      "execution_count": 54,
      "outputs": [
        {
          "output_type": "execute_result",
          "data": {
            "text/plain": [
              "(array([2., 3., 4., 5., 6., 7., 8.]), tensor([1., 2., 3., 4., 5., 6., 7.]))"
            ]
          },
          "metadata": {},
          "execution_count": 54
        }
      ]
    },
    {
      "cell_type": "code",
      "source": [
        "# Tensor - Numpy\n",
        "\n",
        "tensor = torch.ones(7)\n",
        "numpy_tensor = tensor.numpy()\n",
        "tensor, numpy_tensor"
      ],
      "metadata": {
        "colab": {
          "base_uri": "https://localhost:8080/"
        },
        "id": "eH21MIqjr3aM",
        "outputId": "cccd6b16-9b4f-4b55-8f44-190a9d4a8126"
      },
      "execution_count": 55,
      "outputs": [
        {
          "output_type": "execute_result",
          "data": {
            "text/plain": [
              "(tensor([1., 1., 1., 1., 1., 1., 1.]),\n",
              " array([1., 1., 1., 1., 1., 1., 1.], dtype=float32))"
            ]
          },
          "metadata": {},
          "execution_count": 55
        }
      ]
    },
    {
      "cell_type": "markdown",
      "source": [
        "# Reproducbility (trying to take random out of random)\n",
        "\n",
        "In short how a neural network learns:\n",
        "\n",
        "`start with random numbers -> tensor operations -> update random numbers to try and make them better representations of the data -> again -> again -> again...`\n",
        "\n",
        "To reduce the randomness in neural networks and PyTorch comes the concept of a **random seed**\n",
        "\n",
        "Essentially what the random seed does is \"flavour\" the randomness"
      ],
      "metadata": {
        "id": "cyccdPBPsOwW"
      }
    },
    {
      "cell_type": "code",
      "source": [
        "# Create two random tensors\n",
        "\n",
        "random_tensor_A = torch.rand(3, 4)\n",
        "random_tensor_B = torch.rand(3, 4)\n",
        "\n",
        "print(random_tensor_A)\n",
        "print(random_tensor_B)\n",
        "print(random_tensor_A == random_tensor_B)"
      ],
      "metadata": {
        "colab": {
          "base_uri": "https://localhost:8080/"
        },
        "id": "3MqPCohx5uxR",
        "outputId": "e77572b1-f229-4336-ca6a-2e2666c87768"
      },
      "execution_count": 58,
      "outputs": [
        {
          "output_type": "stream",
          "name": "stdout",
          "text": [
            "tensor([[0.7645, 0.9967, 0.4195, 0.8367],\n",
            "        [0.4532, 0.5326, 0.0481, 0.2350],\n",
            "        [0.3040, 0.2804, 0.3040, 0.5061]])\n",
            "tensor([[0.7805, 0.4845, 0.4523, 0.3594],\n",
            "        [0.1106, 0.5444, 0.4528, 0.3796],\n",
            "        [0.0968, 0.5403, 0.0558, 0.4103]])\n",
            "tensor([[False, False, False, False],\n",
            "        [False, False, False, False],\n",
            "        [False, False, False, False]])\n"
          ]
        }
      ]
    },
    {
      "cell_type": "code",
      "source": [
        "# Let's Make some random but reproducible tensors\n",
        "\n",
        "import torch\n",
        "\n",
        "# Set random seed\n",
        "RANDOM_SEED = 42\n",
        "\n",
        "torch.manual_seed(RANDOM_SEED)\n",
        "random_tensor_C = torch.rand(3, 4)\n",
        "\n",
        "torch.manual_seed(RANDOM_SEED)\n",
        "random_tensor_D = torch.rand(3, 4)\n",
        "\n",
        "print(random_tensor_C)\n",
        "print(random_tensor_D)\n",
        "print(random_tensor_C == random_tensor_D)"
      ],
      "metadata": {
        "colab": {
          "base_uri": "https://localhost:8080/"
        },
        "id": "ugIcuKM85c4d",
        "outputId": "5d02445e-215f-420f-b54c-2e3cf1d0f9d0"
      },
      "execution_count": 63,
      "outputs": [
        {
          "output_type": "stream",
          "name": "stdout",
          "text": [
            "tensor([[0.8823, 0.9150, 0.3829, 0.9593],\n",
            "        [0.3904, 0.6009, 0.2566, 0.7936],\n",
            "        [0.9408, 0.1332, 0.9346, 0.5936]])\n",
            "tensor([[0.8823, 0.9150, 0.3829, 0.9593],\n",
            "        [0.3904, 0.6009, 0.2566, 0.7936],\n",
            "        [0.9408, 0.1332, 0.9346, 0.5936]])\n",
            "tensor([[True, True, True, True],\n",
            "        [True, True, True, True],\n",
            "        [True, True, True, True]])\n"
          ]
        }
      ]
    },
    {
      "cell_type": "code",
      "source": [],
      "metadata": {
        "id": "bKkf5rGt7tvb"
      },
      "execution_count": null,
      "outputs": []
    }
  ]
}